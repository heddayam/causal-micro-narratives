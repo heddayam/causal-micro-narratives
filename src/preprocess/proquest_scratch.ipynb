{
 "cells": [
  {
   "cell_type": "code",
   "execution_count": 1,
   "metadata": {},
   "outputs": [
    {
     "name": "stderr",
     "output_type": "stream",
     "text": [
      "/home/mourad/.conda/envs/mourad-econ-py310/lib/python3.10/site-packages/tqdm/auto.py:21: TqdmWarning: IProgress not found. Please update jupyter and ipywidgets. See https://ipywidgets.readthedocs.io/en/stable/user_install.html\n",
      "  from .autonotebook import tqdm as notebook_tqdm\n"
     ]
    }
   ],
   "source": [
    "import pandas as pd\n",
    "from datasets import load_from_disk\n",
    "import json"
   ]
  },
  {
   "cell_type": "code",
   "execution_count": 7,
   "metadata": {},
   "outputs": [],
   "source": [
    "x1 = pd.read_csv('/data/mourad/narratives/proquest/pre1960_proquest_processed.tsv.gz', compression='gzip', sep='\\t')\n",
    "x2 = pd.read_csv('/data/mourad/narratives/proquest/processed-data-1923-1960.csv.gz', compression='gzip', sep='\\t')\n",
    "x3 = pd.read_csv('/data/mourad/narratives/proquest/all_proquest_processed.tsv.gz', compression='gzip', sep='\\t')"
   ]
  },
  {
   "cell_type": "code",
   "execution_count": 2,
   "metadata": {},
   "outputs": [
    {
     "name": "stderr",
     "output_type": "stream",
     "text": [
      "Map: 100%|██████████| 26218/26218 [00:02<00:00, 8969.99 examples/s]\n"
     ]
    }
   ],
   "source": [
    "x = load_from_disk('/data/mourad/narratives/model_json_preds/proquest/llama31_ft__600s_train-now_and_proquest_sample_2')\n",
    "x = x.map(lambda e: {'prediction': json.loads(e['completion'])})"
   ]
  },
  {
   "cell_type": "code",
   "execution_count": 4,
   "metadata": {},
   "outputs": [
    {
     "data": {
      "text/plain": [
       "{'contains-narrative': True,\n",
       " 'foreign': False,\n",
       " 'inflation-narratives': {'inflation-direction': 'same',\n",
       "  'inflation-time': 'future',\n",
       "  'narratives': ['{\"cause\": \"expect\", \"time\": \"present\"}']}}"
      ]
     },
     "execution_count": 4,
     "metadata": {},
     "output_type": "execute_result"
    }
   ],
   "source": []
  }
 ],
 "metadata": {
  "kernelspec": {
   "display_name": "mourad-econ-py310",
   "language": "python",
   "name": "python3"
  },
  "language_info": {
   "codemirror_mode": {
    "name": "ipython",
    "version": 3
   },
   "file_extension": ".py",
   "mimetype": "text/x-python",
   "name": "python",
   "nbconvert_exporter": "python",
   "pygments_lexer": "ipython3",
   "version": "3.10.14"
  }
 },
 "nbformat": 4,
 "nbformat_minor": 2
}

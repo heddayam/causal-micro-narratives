{
 "cells": [
  {
   "cell_type": "code",
   "execution_count": 51,
   "metadata": {},
   "outputs": [],
   "source": [
    "from src.utils import utils\n",
    "from src.utils.utils import categories\n",
    "import json\n",
    "import random"
   ]
  },
  {
   "cell_type": "code",
   "execution_count": 57,
   "metadata": {},
   "outputs": [],
   "source": [
    "def prepare_fewshot(dataset, seed):\n",
    "    now = gold_data = utils.load_hf_dataset(path=f\"/data/mourad/narratives/sft_data\", dataset=dataset)['train'].shuffle(seed=seed)\n",
    "    pq = gold_data = utils.load_hf_dataset(path=f\"/data/mourad/narratives/sft_data\", dataset=dataset)['train'].shuffle(seed=seed)\n",
    "    cats = categories['cause_category'] + categories['effect_category']\n",
    "\n",
    "    fewshot = []\n",
    "    cats_included = []\n",
    "    nons_included = 0\n",
    "    for instance in now:\n",
    "        gold = json.loads(utils.reconstruct_training_input(instance))\n",
    "        gold = json.dumps(gold)\n",
    "        remaining_cats = set(cats).difference(cats_included)\n",
    "        for cat in remaining_cats:\n",
    "            if cat in gold:\n",
    "                cats_included.append(cat)\n",
    "                fewshot.append(f\"{instance['text']}\\n{gold}\")\n",
    "                break\n",
    "        # print(gold)\n",
    "        if nons_included < 5 and 'null' in gold: \n",
    "            nons_included += 1\n",
    "            fewshot.append(f\"{instance['text']}\\n{gold}\")       \n",
    "\n",
    "    random.seed(seed)\n",
    "    random.shuffle(fewshot)\n",
    "    with open(f'../prompt-templates/in-context/gpt/fewshot_{dataset}_{seed}.txt', 'w') as f:\n",
    "        # shuffle now_fewshot\n",
    "        for instance in fewshot:\n",
    "            f.write(instance + '\\n\\n')"
   ]
  },
  {
   "cell_type": "code",
   "execution_count": 58,
   "metadata": {},
   "outputs": [],
   "source": [
    "for seed in [1,2,3,4]:\n",
    "    prepare_fewshot('now', seed)\n",
    "    prepare_fewshot('proquest', seed)\n",
    "    prepare_fewshot('now_and_proquest', seed)"
   ]
  }
 ],
 "metadata": {
  "kernelspec": {
   "display_name": "mourad-econ-py310",
   "language": "python",
   "name": "python3"
  },
  "language_info": {
   "codemirror_mode": {
    "name": "ipython",
    "version": 3
   },
   "file_extension": ".py",
   "mimetype": "text/x-python",
   "name": "python",
   "nbconvert_exporter": "python",
   "pygments_lexer": "ipython3",
   "version": "3.10.14"
  }
 },
 "nbformat": 4,
 "nbformat_minor": 2
}

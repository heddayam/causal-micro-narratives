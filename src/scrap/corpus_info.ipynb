{
 "cells": [
  {
   "cell_type": "code",
   "execution_count": 1,
   "metadata": {},
   "outputs": [],
   "source": [
    "import pandas as pd"
   ]
  },
  {
   "cell_type": "code",
   "execution_count": 2,
   "metadata": {},
   "outputs": [],
   "source": [
    "now_articles = pd.read_csv('../../data/NOW_article_counts.csv')\n",
    "now_sentences = pd.read_csv('../../data/NOW_sentence_counts.csv')"
   ]
  },
  {
   "cell_type": "code",
   "execution_count": 5,
   "metadata": {},
   "outputs": [
    {
     "name": "stdout",
     "output_type": "stream",
     "text": [
      "Articles:  2127951\n",
      "Sentences:  61281151\n"
     ]
    }
   ],
   "source": [
    "print(\"Articles: \", now_articles.articles.sum())\n",
    "print(\"Sentences: \", now_sentences.sentences.sum())"
   ]
  },
  {
   "cell_type": "code",
   "execution_count": 2,
   "metadata": {},
   "outputs": [],
   "source": [
    "from src.utils import utils"
   ]
  },
  {
   "cell_type": "code",
   "execution_count": 5,
   "metadata": {},
   "outputs": [],
   "source": [
    "now = utils.load_hf_dataset(dataset='now')\n",
    "proquest = utils.load_hf_dataset(dataset='proquest')"
   ]
  },
  {
   "cell_type": "code",
   "execution_count": 6,
   "metadata": {},
   "outputs": [
    {
     "data": {
      "text/plain": [
       "DatasetDict({\n",
       "    train: Dataset({\n",
       "        features: ['id', 'text', 'assigned', 'template', 'data'],\n",
       "        num_rows: 965\n",
       "    })\n",
       "    test_az: Dataset({\n",
       "        features: ['id', 'text', 'assigned', 'template', 'data'],\n",
       "        num_rows: 488\n",
       "    })\n",
       "    test_mh: Dataset({\n",
       "        features: ['id', 'text', 'assigned', 'template', 'data'],\n",
       "        num_rows: 488\n",
       "    })\n",
       "    test_qz: Dataset({\n",
       "        features: ['id', 'text', 'assigned', 'template', 'data'],\n",
       "        num_rows: 488\n",
       "    })\n",
       "    test: Dataset({\n",
       "        features: ['id', 'text', 'assigned', 'template', 'data'],\n",
       "        num_rows: 488\n",
       "    })\n",
       "})"
      ]
     },
     "execution_count": 6,
     "metadata": {},
     "output_type": "execute_result"
    }
   ],
   "source": [
    "proquest = proquest['train'].to_pandas() + proquest['test'].to_pandas()\n",
    "test = now['test'].to_pandas() + now['train'].to_pandas()"
   ]
  },
  {
   "cell_type": "code",
   "execution_count": null,
   "metadata": {},
   "outputs": [],
   "source": [
    "df = pd.read_csv(\"/data/mourad/narratives/proquest/all_proquest_processed.tsv.gz\", sep='\\t', compression='gzip')"
   ]
  }
 ],
 "metadata": {
  "kernelspec": {
   "display_name": "mourad-econ-py310",
   "language": "python",
   "name": "python3"
  },
  "language_info": {
   "codemirror_mode": {
    "name": "ipython",
    "version": 3
   },
   "file_extension": ".py",
   "mimetype": "text/x-python",
   "name": "python",
   "nbconvert_exporter": "python",
   "pygments_lexer": "ipython3",
   "version": "3.10.14"
  }
 },
 "nbformat": 4,
 "nbformat_minor": 2
}
